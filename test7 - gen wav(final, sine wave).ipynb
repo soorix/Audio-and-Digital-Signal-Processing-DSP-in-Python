{
 "cells": [
  {
   "cell_type": "markdown",
   "metadata": {},
   "source": [
    "http://code.activestate.com/recipes/578168-sound-generator-using-wav-file/"
   ]
  },
  {
   "cell_type": "code",
   "execution_count": 1,
   "metadata": {},
   "outputs": [],
   "source": [
    "# generate wav file containing sine waves\n",
    "# FB36 - 20120617\n",
    "import math, wave, array\n",
    "duration = 3 # seconds\n",
    "freq = 440 # of cycles per second (Hz) (frequency of the sine waves)\n",
    "volume = 100 # percent\n",
    "data = array.array('h') # signed short integer (-32768 to 32767) data\n",
    "sampleRate = 44100 # of samples per second (standard)\n",
    "numChan = 1 # of channels (1: mono, 2: stereo)\n",
    "dataSize = 2 # 2 bytes because of using signed short integers => bit depth = 16\n",
    "numSamplesPerCyc = int(sampleRate / freq)\n",
    "numSamples = sampleRate * duration\n",
    "for i in range(numSamples):\n",
    "    sample = 32767 * float(volume) / 100\n",
    "    sample *= math.sin(math.pi * 2 * (i % numSamplesPerCyc) / numSamplesPerCyc)\n",
    "    data.append(int(sample))\n",
    "f = wave.open('SineWave_' + str(freq) + 'Hz.wav', 'w')\n",
    "f.setparams((numChan, dataSize, sampleRate, numSamples, \"NONE\", \"Uncompressed\"))\n",
    "f.writeframes(data.tostring())\n",
    "f.close()"
   ]
  },
  {
   "cell_type": "code",
   "execution_count": null,
   "metadata": {},
   "outputs": [],
   "source": []
  }
 ],
 "metadata": {
  "kernelspec": {
   "display_name": "Python 3",
   "language": "python",
   "name": "python3"
  },
  "language_info": {
   "codemirror_mode": {
    "name": "ipython",
    "version": 3
   },
   "file_extension": ".py",
   "mimetype": "text/x-python",
   "name": "python",
   "nbconvert_exporter": "python",
   "pygments_lexer": "ipython3",
   "version": "3.7.4"
  }
 },
 "nbformat": 4,
 "nbformat_minor": 2
}
