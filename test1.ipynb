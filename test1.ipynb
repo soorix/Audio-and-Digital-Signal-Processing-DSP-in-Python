{
 "cells": [
  {
   "cell_type": "code",
   "execution_count": 7,
   "metadata": {},
   "outputs": [
    {
     "name": "stderr",
     "output_type": "stream",
     "text": [
      "C:\\Users\\72921\\AppData\\Local\\Continuum\\anaconda3\\lib\\site-packages\\pydub\\utils.py:165: RuntimeWarning: Couldn't find ffmpeg or avconv - defaulting to ffmpeg, but may not work\n",
      "  warn(\"Couldn't find ffmpeg or avconv - defaulting to ffmpeg, but may not work\", RuntimeWarning)\n",
      "C:\\Users\\72921\\AppData\\Local\\Continuum\\anaconda3\\lib\\site-packages\\ipykernel_launcher.py:42: DeprecationWarning: The binary mode of fromstring is deprecated, as it behaves surprisingly on unicode inputs. Use frombuffer instead\n"
     ]
    },
    {
     "data": {
      "image/png": "[encoded data removed]",
      "text/plain": [
       "<Figure size 432x288 with 1 Axes>"
      ]
     },
     "metadata": {
      "needs_background": "light"
     },
     "output_type": "display_data"
    }
   ],
   "source": [
    "# Source: https://pypi.org/project/wavio/\n",
    "# File: gen_sound.py\n",
    "# Run \n",
    "#\n",
    "#   $ python gen_sound.py\n",
    "#\n",
    "# to create the file `sine440.py\n",
    "#\n",
    "# Then run (for example on Mac OS)\n",
    "#\n",
    "#   $ afplay sine.wav\n",
    "#\n",
    "# to listen to the sound\n",
    "import numpy as np\n",
    "import wavio\n",
    "\n",
    "import matplotlib.pyplot as plt\n",
    "\n",
    "import wave\n",
    "import sys\n",
    "from pydub import AudioSegment\n",
    "\n",
    "# Parameters\n",
    "rate = 44100    # samples per second\n",
    "T = 3           # sample duration (seconds)\n",
    "f = 440.0       # sound frequency (Hz)\n",
    "# Compute waveform samples\n",
    "t = np.linspace(0, T, T*rate, endpoint=False)\n",
    "x = np.sin(2*np.pi * f * t)\n",
    "# Write the samples to a file\n",
    "wavio.write(\"sine.wav\", x, rate, sampwidth=3)\n",
    "\n",
    "\n",
    "sound=AudioSegment.from_wav(\"sine.wav\")\n",
    "sound=sound.set_channels(1)\n",
    "sound.export(\"out_sine.wav\", format=\"wav\")\n",
    " \n",
    "spf = wave.open('out_sine.wav','r')\n",
    " \n",
    "#Extract Raw Audio from Wav File\n",
    "signal = spf.readframes(-1)\n",
    "signal = np.fromstring(signal, dtype=np.int16)\n",
    " \n",
    " \n",
    "#If Stereo\n",
    "if spf.getnchannels() == 2:\n",
    "    print(\"Just mono files\")\n",
    "    sys.exit(0)\n",
    " \n",
    "plt.figure(1)\n",
    "plt.title('Signal Wave...')\n",
    "plt.plot(signal)\n",
    "plt.show()\n",
    "\n",
    "\n"
   ]
  },
  {
   "cell_type": "code",
   "execution_count": null,
   "metadata": {},
   "outputs": [],
   "source": []
  }
 ],
 "metadata": {
  "kernelspec": {
   "display_name": "Python 3",
   "language": "python",
   "name": "python3"
  },
  "language_info": {
   "codemirror_mode": {
    "name": "ipython",
    "version": 3
   },
   "file_extension": ".py",
   "mimetype": "text/x-python",
   "name": "python",
   "nbconvert_exporter": "python",
   "pygments_lexer": "ipython3",
   "version": "3.7.4"
  }
 },
 "nbformat": 4,
 "nbformat_minor": 2
}
